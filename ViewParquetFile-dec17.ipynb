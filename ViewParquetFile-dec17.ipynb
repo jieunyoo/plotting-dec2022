{
 "cells": [
  {
   "cell_type": "code",
   "execution_count": 1,
   "id": "5116908e-6863-49d9-87f5-7fbafc281dc2",
   "metadata": {},
   "outputs": [],
   "source": [
    "import pandas as pd"
   ]
  },
  {
   "cell_type": "code",
   "execution_count": 2,
   "id": "a9c429a2-0ca2-482f-8250-787b9696e715",
   "metadata": {},
   "outputs": [],
   "source": [
    "parquet_file = '0-1_.parquet'"
   ]
  },
  {
   "cell_type": "code",
   "execution_count": 3,
   "id": "18a797f3-d739-4191-b075-349a26916167",
   "metadata": {},
   "outputs": [
    {
     "data": {
      "text/html": [
       "<div>\n",
       "<style scoped>\n",
       "    .dataframe tbody tr th:only-of-type {\n",
       "        vertical-align: middle;\n",
       "    }\n",
       "\n",
       "    .dataframe tbody tr th {\n",
       "        vertical-align: top;\n",
       "    }\n",
       "\n",
       "    .dataframe thead th {\n",
       "        text-align: right;\n",
       "    }\n",
       "</style>\n",
       "<table border=\"1\" class=\"dataframe\">\n",
       "  <thead>\n",
       "    <tr style=\"text-align: right;\">\n",
       "      <th></th>\n",
       "      <th>Zmass</th>\n",
       "      <th>lepton_pT</th>\n",
       "      <th>met</th>\n",
       "      <th>ht</th>\n",
       "      <th>weight</th>\n",
       "    </tr>\n",
       "  </thead>\n",
       "  <tbody>\n",
       "    <tr>\n",
       "      <th>0</th>\n",
       "      <td>0.0</td>\n",
       "      <td>94.065071</td>\n",
       "      <td>56.422043</td>\n",
       "      <td>259.937500</td>\n",
       "      <td>0.939853</td>\n",
       "    </tr>\n",
       "    <tr>\n",
       "      <th>1</th>\n",
       "      <td>0.0</td>\n",
       "      <td>62.304035</td>\n",
       "      <td>23.854513</td>\n",
       "      <td>210.093750</td>\n",
       "      <td>0.993672</td>\n",
       "    </tr>\n",
       "    <tr>\n",
       "      <th>2</th>\n",
       "      <td>0.0</td>\n",
       "      <td>74.921799</td>\n",
       "      <td>35.927513</td>\n",
       "      <td>348.281250</td>\n",
       "      <td>0.968153</td>\n",
       "    </tr>\n",
       "    <tr>\n",
       "      <th>3</th>\n",
       "      <td>0.0</td>\n",
       "      <td>108.865158</td>\n",
       "      <td>78.714607</td>\n",
       "      <td>247.562500</td>\n",
       "      <td>0.978478</td>\n",
       "    </tr>\n",
       "    <tr>\n",
       "      <th>4</th>\n",
       "      <td>0.0</td>\n",
       "      <td>34.569263</td>\n",
       "      <td>14.084517</td>\n",
       "      <td>369.140625</td>\n",
       "      <td>1.080848</td>\n",
       "    </tr>\n",
       "    <tr>\n",
       "      <th>...</th>\n",
       "      <td>...</td>\n",
       "      <td>...</td>\n",
       "      <td>...</td>\n",
       "      <td>...</td>\n",
       "      <td>...</td>\n",
       "    </tr>\n",
       "    <tr>\n",
       "      <th>6812</th>\n",
       "      <td>0.0</td>\n",
       "      <td>54.835415</td>\n",
       "      <td>46.745728</td>\n",
       "      <td>451.875000</td>\n",
       "      <td>0.720963</td>\n",
       "    </tr>\n",
       "    <tr>\n",
       "      <th>6813</th>\n",
       "      <td>0.0</td>\n",
       "      <td>30.806614</td>\n",
       "      <td>19.216043</td>\n",
       "      <td>147.234375</td>\n",
       "      <td>0.962618</td>\n",
       "    </tr>\n",
       "    <tr>\n",
       "      <th>6814</th>\n",
       "      <td>0.0</td>\n",
       "      <td>75.074005</td>\n",
       "      <td>28.419847</td>\n",
       "      <td>233.562500</td>\n",
       "      <td>1.026571</td>\n",
       "    </tr>\n",
       "    <tr>\n",
       "      <th>6815</th>\n",
       "      <td>0.0</td>\n",
       "      <td>33.582298</td>\n",
       "      <td>30.935856</td>\n",
       "      <td>125.156250</td>\n",
       "      <td>1.068739</td>\n",
       "    </tr>\n",
       "    <tr>\n",
       "      <th>6816</th>\n",
       "      <td>0.0</td>\n",
       "      <td>83.154930</td>\n",
       "      <td>41.378742</td>\n",
       "      <td>216.765625</td>\n",
       "      <td>0.995196</td>\n",
       "    </tr>\n",
       "  </tbody>\n",
       "</table>\n",
       "<p>6817 rows × 5 columns</p>\n",
       "</div>"
      ],
      "text/plain": [
       "      Zmass   lepton_pT        met          ht    weight\n",
       "0       0.0   94.065071  56.422043  259.937500  0.939853\n",
       "1       0.0   62.304035  23.854513  210.093750  0.993672\n",
       "2       0.0   74.921799  35.927513  348.281250  0.968153\n",
       "3       0.0  108.865158  78.714607  247.562500  0.978478\n",
       "4       0.0   34.569263  14.084517  369.140625  1.080848\n",
       "...     ...         ...        ...         ...       ...\n",
       "6812    0.0   54.835415  46.745728  451.875000  0.720963\n",
       "6813    0.0   30.806614  19.216043  147.234375  0.962618\n",
       "6814    0.0   75.074005  28.419847  233.562500  1.026571\n",
       "6815    0.0   33.582298  30.935856  125.156250  1.068739\n",
       "6816    0.0   83.154930  41.378742  216.765625  0.995196\n",
       "\n",
       "[6817 rows x 5 columns]"
      ]
     },
     "execution_count": 3,
     "metadata": {},
     "output_type": "execute_result"
    }
   ],
   "source": [
    "pd.read_parquet(parquet_file, engine='auto')"
   ]
  },
  {
   "cell_type": "code",
   "execution_count": 4,
   "id": "588ecb7e-ec42-47f7-9127-9a0fe5371770",
   "metadata": {},
   "outputs": [],
   "source": [
    "df1 = pd.read_parquet(parquet_file, engine='auto')"
   ]
  },
  {
   "cell_type": "code",
   "execution_count": 5,
   "id": "c9f99271-55cd-48e1-8968-ed8ec3cf73d4",
   "metadata": {},
   "outputs": [],
   "source": [
    "import uproot\n",
    "with uproot.recreate(\"new-fileTrigger.root\") as file:\n",
    "    file['Events'] = pd.DataFrame(df1)"
   ]
  },
  {
   "cell_type": "code",
   "execution_count": 6,
   "id": "e81021b7-00f2-4e0c-84f2-fef0708220c5",
   "metadata": {},
   "outputs": [
    {
     "data": {
      "text/plain": [
       "<AxesSubplot: >"
      ]
     },
     "execution_count": 6,
     "metadata": {},
     "output_type": "execute_result"
    },
    {
     "data": {
      "image/png": "[encoded data removed]",
      "text/plain": [
       "<Figure size 640x480 with 1 Axes>"
      ]
     },
     "metadata": {},
     "output_type": "display_data"
    }
   ],
   "source": [
    "df1['lepton_pT'].hist()"
   ]
  },
  {
   "cell_type": "code",
   "execution_count": 7,
   "id": "0dc60b39-0036-455a-862c-1af68ced53bb",
   "metadata": {},
   "outputs": [
    {
     "data": {
      "text/plain": [
       "<AxesSubplot: >"
      ]
     },
     "execution_count": 7,
     "metadata": {},
     "output_type": "execute_result"
    },
    {
     "data": {
      "image/png": "[encoded data removed]",
      "text/plain": [
       "<Figure size 640x480 with 1 Axes>"
      ]
     },
     "metadata": {},
     "output_type": "display_data"
    }
   ],
   "source": [
    "df1['Zmass'].hist()"
   ]
  },
  {
   "cell_type": "code",
   "execution_count": 8,
   "id": "6e738021-f407-462f-9810-fa2ee29d2e63",
   "metadata": {},
   "outputs": [],
   "source": [
    "import pickle\n",
    "\n",
    "with open('0-1.pkl', 'rb') as f:\n",
    "    data = pickle.load(f)"
   ]
  },
  {
   "cell_type": "code",
   "execution_count": 9,
   "id": "948a4e6f-ad3e-4e14-81de-e428036abd73",
   "metadata": {},
   "outputs": [],
   "source": [
    "import pandas as pd\n",
    "\n",
    "obj = pd.read_pickle(r'0-1.pkl')"
   ]
  },
  {
   "cell_type": "code",
   "execution_count": 10,
   "id": "1dfeb6f7-dd3f-4a6e-b31e-900b15a0e351",
   "metadata": {},
   "outputs": [
    {
     "data": {
      "text/plain": [
       "{'HZJ_HToWW_M-125': {'mc': 5,\n",
       "  '2017': {'sumgenweight': 44622.523,\n",
       "   'cutflows': {'all': 45688.52942811938,\n",
       "    'OneOrMoreLeptons': 7582.433655340721,\n",
       "    'trigger': 6537.221751912378}}}}"
      ]
     },
     "execution_count": 10,
     "metadata": {},
     "output_type": "execute_result"
    }
   ],
   "source": [
    "obj"
   ]
  },
  {
   "cell_type": "code",
   "execution_count": null,
   "id": "8eece702-8143-41e5-aa7a-d66b20cb8f36",
   "metadata": {},
   "outputs": [],
   "source": []
  }
 ],
 "metadata": {
  "kernelspec": {
   "display_name": "Python 3 (ipykernel)",
   "language": "python",
   "name": "py3-preamble"
  },
  "language_info": {
   "codemirror_mode": {
    "name": "ipython",
    "version": 3
   },
   "file_extension": ".py",
   "mimetype": "text/x-python",
   "name": "python",
   "nbconvert_exporter": "python",
   "pygments_lexer": "ipython3",
   "version": "3.9.15"
  }
 },
 "nbformat": 4,
 "nbformat_minor": 5
}
